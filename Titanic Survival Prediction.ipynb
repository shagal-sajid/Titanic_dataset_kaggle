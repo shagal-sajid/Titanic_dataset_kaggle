{
 "cells": [
  {
   "cell_type": "code",
   "execution_count": 140,
   "id": "c8b6c88a",
   "metadata": {},
   "outputs": [],
   "source": [
    "import pandas as pd\n",
    "import numpy as np\n",
    "import matplotlib.pyplot as plt\n",
    "import seaborn as sns\n",
    "sns.set()\n",
    "\n",
    "from sklearn.preprocessing import StandardScaler\n",
    "from sklearn.model_selection import train_test_split\n",
    "from sklearn.metrics import accuracy_score"
   ]
  },
  {
   "cell_type": "code",
   "execution_count": 2,
   "id": "4b7cff6b",
   "metadata": {},
   "outputs": [
    {
     "data": {
      "text/html": [
       "<div>\n",
       "<style scoped>\n",
       "    .dataframe tbody tr th:only-of-type {\n",
       "        vertical-align: middle;\n",
       "    }\n",
       "\n",
       "    .dataframe tbody tr th {\n",
       "        vertical-align: top;\n",
       "    }\n",
       "\n",
       "    .dataframe thead th {\n",
       "        text-align: right;\n",
       "    }\n",
       "</style>\n",
       "<table border=\"1\" class=\"dataframe\">\n",
       "  <thead>\n",
       "    <tr style=\"text-align: right;\">\n",
       "      <th></th>\n",
       "      <th>PassengerId</th>\n",
       "      <th>Survived</th>\n",
       "      <th>Pclass</th>\n",
       "      <th>Name</th>\n",
       "      <th>Sex</th>\n",
       "      <th>Age</th>\n",
       "      <th>SibSp</th>\n",
       "      <th>Parch</th>\n",
       "      <th>Ticket</th>\n",
       "      <th>Fare</th>\n",
       "      <th>Cabin</th>\n",
       "      <th>Embarked</th>\n",
       "    </tr>\n",
       "  </thead>\n",
       "  <tbody>\n",
       "    <tr>\n",
       "      <th>0</th>\n",
       "      <td>1</td>\n",
       "      <td>0</td>\n",
       "      <td>3</td>\n",
       "      <td>Braund, Mr. Owen Harris</td>\n",
       "      <td>male</td>\n",
       "      <td>22.0</td>\n",
       "      <td>1</td>\n",
       "      <td>0</td>\n",
       "      <td>A/5 21171</td>\n",
       "      <td>7.2500</td>\n",
       "      <td>NaN</td>\n",
       "      <td>S</td>\n",
       "    </tr>\n",
       "    <tr>\n",
       "      <th>1</th>\n",
       "      <td>2</td>\n",
       "      <td>1</td>\n",
       "      <td>1</td>\n",
       "      <td>Cumings, Mrs. John Bradley (Florence Briggs Th...</td>\n",
       "      <td>female</td>\n",
       "      <td>38.0</td>\n",
       "      <td>1</td>\n",
       "      <td>0</td>\n",
       "      <td>PC 17599</td>\n",
       "      <td>71.2833</td>\n",
       "      <td>C85</td>\n",
       "      <td>C</td>\n",
       "    </tr>\n",
       "    <tr>\n",
       "      <th>2</th>\n",
       "      <td>3</td>\n",
       "      <td>1</td>\n",
       "      <td>3</td>\n",
       "      <td>Heikkinen, Miss. Laina</td>\n",
       "      <td>female</td>\n",
       "      <td>26.0</td>\n",
       "      <td>0</td>\n",
       "      <td>0</td>\n",
       "      <td>STON/O2. 3101282</td>\n",
       "      <td>7.9250</td>\n",
       "      <td>NaN</td>\n",
       "      <td>S</td>\n",
       "    </tr>\n",
       "    <tr>\n",
       "      <th>3</th>\n",
       "      <td>4</td>\n",
       "      <td>1</td>\n",
       "      <td>1</td>\n",
       "      <td>Futrelle, Mrs. Jacques Heath (Lily May Peel)</td>\n",
       "      <td>female</td>\n",
       "      <td>35.0</td>\n",
       "      <td>1</td>\n",
       "      <td>0</td>\n",
       "      <td>113803</td>\n",
       "      <td>53.1000</td>\n",
       "      <td>C123</td>\n",
       "      <td>S</td>\n",
       "    </tr>\n",
       "    <tr>\n",
       "      <th>4</th>\n",
       "      <td>5</td>\n",
       "      <td>0</td>\n",
       "      <td>3</td>\n",
       "      <td>Allen, Mr. William Henry</td>\n",
       "      <td>male</td>\n",
       "      <td>35.0</td>\n",
       "      <td>0</td>\n",
       "      <td>0</td>\n",
       "      <td>373450</td>\n",
       "      <td>8.0500</td>\n",
       "      <td>NaN</td>\n",
       "      <td>S</td>\n",
       "    </tr>\n",
       "  </tbody>\n",
       "</table>\n",
       "</div>"
      ],
      "text/plain": [
       "   PassengerId  Survived  Pclass  \\\n",
       "0            1         0       3   \n",
       "1            2         1       1   \n",
       "2            3         1       3   \n",
       "3            4         1       1   \n",
       "4            5         0       3   \n",
       "\n",
       "                                                Name     Sex   Age  SibSp  \\\n",
       "0                            Braund, Mr. Owen Harris    male  22.0      1   \n",
       "1  Cumings, Mrs. John Bradley (Florence Briggs Th...  female  38.0      1   \n",
       "2                             Heikkinen, Miss. Laina  female  26.0      0   \n",
       "3       Futrelle, Mrs. Jacques Heath (Lily May Peel)  female  35.0      1   \n",
       "4                           Allen, Mr. William Henry    male  35.0      0   \n",
       "\n",
       "   Parch            Ticket     Fare Cabin Embarked  \n",
       "0      0         A/5 21171   7.2500   NaN        S  \n",
       "1      0          PC 17599  71.2833   C85        C  \n",
       "2      0  STON/O2. 3101282   7.9250   NaN        S  \n",
       "3      0            113803  53.1000  C123        S  \n",
       "4      0            373450   8.0500   NaN        S  "
      ]
     },
     "execution_count": 2,
     "metadata": {},
     "output_type": "execute_result"
    }
   ],
   "source": [
    "raw_data = pd.read_csv('data/train.csv')\n",
    "raw_test = pd.read_csv('data/test.csv')\n",
    "raw_data.head()"
   ]
  },
  {
   "cell_type": "markdown",
   "id": "1adfa6b9",
   "metadata": {},
   "source": [
    "###  Column Definitions copied from Kaggle\n",
    "\n",
    "\n",
    "| Variable | Definition | Key |\n",
    "| :- | -: | :-: |\n",
    "|survival|Survival|0 = No, 1 = Yes|\n",
    "|pclass|Ticket class|1 = 1st, 2 = 2nd, 3 = 3rd|\n",
    "|sex|Sex|  |\t\n",
    "|Age|Age in years\t||\n",
    "|sibsp|# of siblings / spouses aboard the Titanic\t||\n",
    "|parch|# of parents / children aboard the Titanic\t||\n",
    "|ticket|Ticket number\t||\n",
    "|fare|Passenger fare\t||\n",
    "|cabin|\tCabin number\t||\n",
    "|embarked|Port of Embarkation|C = Cherbourg, Q = Queenstown, S = Southampton|"
   ]
  },
  {
   "cell_type": "code",
   "execution_count": 3,
   "id": "232d3260",
   "metadata": {},
   "outputs": [
    {
     "name": "stdout",
     "output_type": "stream",
     "text": [
      "Shape :  (891, 11)\n",
      "<class 'pandas.core.frame.DataFrame'>\n",
      "Int64Index: 891 entries, 1 to 891\n",
      "Data columns (total 11 columns):\n",
      " #   Column    Non-Null Count  Dtype  \n",
      "---  ------    --------------  -----  \n",
      " 0   Survived  891 non-null    int64  \n",
      " 1   Pclass    891 non-null    int64  \n",
      " 2   Name      891 non-null    object \n",
      " 3   Sex       891 non-null    object \n",
      " 4   Age       714 non-null    float64\n",
      " 5   SibSp     891 non-null    int64  \n",
      " 6   Parch     891 non-null    int64  \n",
      " 7   Ticket    891 non-null    object \n",
      " 8   Fare      891 non-null    float64\n",
      " 9   Cabin     204 non-null    object \n",
      " 10  Embarked  889 non-null    object \n",
      "dtypes: float64(2), int64(4), object(5)\n",
      "memory usage: 83.5+ KB\n",
      "None\n"
     ]
    }
   ],
   "source": [
    "# Let's copy data into a new variable\n",
    "# Remove Nominal features such as name, ticket id \n",
    "\n",
    "train_data = raw_data.copy()\n",
    "train_data.set_index('PassengerId', inplace=True, drop=True)\n",
    "print('Shape : ',train_data.shape)\n",
    "print(train_data.info())"
   ]
  },
  {
   "cell_type": "code",
   "execution_count": 4,
   "id": "168fe054",
   "metadata": {
    "scrolled": true
   },
   "outputs": [
    {
     "name": "stdout",
     "output_type": "stream",
     "text": [
      "Shape :  (418, 10)\n",
      "<class 'pandas.core.frame.DataFrame'>\n",
      "Int64Index: 418 entries, 892 to 1309\n",
      "Data columns (total 10 columns):\n",
      " #   Column    Non-Null Count  Dtype  \n",
      "---  ------    --------------  -----  \n",
      " 0   Pclass    418 non-null    int64  \n",
      " 1   Name      418 non-null    object \n",
      " 2   Sex       418 non-null    object \n",
      " 3   Age       332 non-null    float64\n",
      " 4   SibSp     418 non-null    int64  \n",
      " 5   Parch     418 non-null    int64  \n",
      " 6   Ticket    418 non-null    object \n",
      " 7   Fare      417 non-null    float64\n",
      " 8   Cabin     91 non-null     object \n",
      " 9   Embarked  418 non-null    object \n",
      "dtypes: float64(2), int64(3), object(5)\n",
      "memory usage: 35.9+ KB\n",
      "None\n"
     ]
    }
   ],
   "source": [
    "# Let's copy data into a new variable\n",
    "# Remove Nominal features such as name, ticket id \n",
    "\n",
    "test_data = raw_test.copy()\n",
    "test_data.set_index('PassengerId', inplace=True, drop=True)\n",
    "print('Shape : ',test_data.shape)\n",
    "print(test_data.info())"
   ]
  },
  {
   "cell_type": "markdown",
   "id": "98f34aeb",
   "metadata": {},
   "source": [
    "- ['Survived', 'Pclass', 'Sex', 'SibSp', 'Parch', 'Fare'] => columns have data for all records\n",
    "- Embarked has around 2 data missing\n",
    "- We have only 25% data for Cabin. Cabin feature may correlate to survival, but here it's highly useless\n",
    "- 20% data is missing in age -> We need to fill up this values\n",
    "\n",
    "\n",
    "#### Age Adjustments \n",
    "\n",
    "reference : https://www.kaggle.com/allohvk/titanic-missing-age-imputation-tutorial-advanced"
   ]
  },
  {
   "cell_type": "code",
   "execution_count": 5,
   "id": "5b08933a",
   "metadata": {},
   "outputs": [],
   "source": [
    "age_test_data = test_data.copy()\n",
    "age_train_data = train_data.copy()"
   ]
  },
  {
   "cell_type": "code",
   "execution_count": 6,
   "id": "41cb29c6",
   "metadata": {
    "scrolled": true
   },
   "outputs": [],
   "source": [
    "# we'll list out salutations out of  Names\n",
    "def Create_salutation(df):\n",
    "    Split_name1 = df['Name'].str.split(',', expand=True)\n",
    "    Split_name2 = Split_name1[1].str.split('.', expand=True)\n",
    "    Split_name2[0].unique()\n",
    "    Split_name2[0]=Split_name2[0].str.replace(' ', '')\n",
    "    df['salutation'] = Split_name2[0]\n",
    "    \n",
    "Create_salutation(age_test_data)\n",
    "Create_salutation(age_train_data)"
   ]
  },
  {
   "cell_type": "code",
   "execution_count": 7,
   "id": "fd96cb42",
   "metadata": {},
   "outputs": [
    {
     "name": "stdout",
     "output_type": "stream",
     "text": [
      "Train Data :  ['Mr' 'Mrs' 'Miss' 'Master' 'Dr']\n",
      "Data :  ['Mr' 'Mrs' 'Miss' 'Ms' 'Master']\n"
     ]
    }
   ],
   "source": [
    "print('Train Data : ',age_train_data[age_train_data['Age'].isnull()]['salutation'].unique())\n",
    "print('Data : ',age_test_data[age_test_data['Age'].isnull()]['salutation'].unique())"
   ]
  },
  {
   "cell_type": "code",
   "execution_count": 8,
   "id": "9c124155",
   "metadata": {},
   "outputs": [
    {
     "data": {
      "text/html": [
       "<div>\n",
       "<style scoped>\n",
       "    .dataframe tbody tr th:only-of-type {\n",
       "        vertical-align: middle;\n",
       "    }\n",
       "\n",
       "    .dataframe tbody tr th {\n",
       "        vertical-align: top;\n",
       "    }\n",
       "\n",
       "    .dataframe thead th {\n",
       "        text-align: right;\n",
       "    }\n",
       "</style>\n",
       "<table border=\"1\" class=\"dataframe\">\n",
       "  <thead>\n",
       "    <tr style=\"text-align: right;\">\n",
       "      <th></th>\n",
       "      <th></th>\n",
       "      <th>mean</th>\n",
       "      <th>count</th>\n",
       "    </tr>\n",
       "    <tr>\n",
       "      <th>salutation</th>\n",
       "      <th>Pclass</th>\n",
       "      <th></th>\n",
       "      <th></th>\n",
       "    </tr>\n",
       "  </thead>\n",
       "  <tbody>\n",
       "    <tr>\n",
       "      <th rowspan=\"2\" valign=\"top\">Dr</th>\n",
       "      <th>1</th>\n",
       "      <td>43.750000</td>\n",
       "      <td>4</td>\n",
       "    </tr>\n",
       "    <tr>\n",
       "      <th>2</th>\n",
       "      <td>38.500000</td>\n",
       "      <td>2</td>\n",
       "    </tr>\n",
       "    <tr>\n",
       "      <th rowspan=\"3\" valign=\"top\">Master</th>\n",
       "      <th>1</th>\n",
       "      <td>5.306667</td>\n",
       "      <td>3</td>\n",
       "    </tr>\n",
       "    <tr>\n",
       "      <th>2</th>\n",
       "      <td>2.258889</td>\n",
       "      <td>9</td>\n",
       "    </tr>\n",
       "    <tr>\n",
       "      <th>3</th>\n",
       "      <td>5.350833</td>\n",
       "      <td>24</td>\n",
       "    </tr>\n",
       "    <tr>\n",
       "      <th rowspan=\"3\" valign=\"top\">Miss</th>\n",
       "      <th>1</th>\n",
       "      <td>30.000000</td>\n",
       "      <td>45</td>\n",
       "    </tr>\n",
       "    <tr>\n",
       "      <th>2</th>\n",
       "      <td>22.390625</td>\n",
       "      <td>32</td>\n",
       "    </tr>\n",
       "    <tr>\n",
       "      <th>3</th>\n",
       "      <td>16.123188</td>\n",
       "      <td>69</td>\n",
       "    </tr>\n",
       "    <tr>\n",
       "      <th rowspan=\"3\" valign=\"top\">Mr</th>\n",
       "      <th>1</th>\n",
       "      <td>41.580460</td>\n",
       "      <td>87</td>\n",
       "    </tr>\n",
       "    <tr>\n",
       "      <th>2</th>\n",
       "      <td>32.768293</td>\n",
       "      <td>82</td>\n",
       "    </tr>\n",
       "    <tr>\n",
       "      <th>3</th>\n",
       "      <td>28.724891</td>\n",
       "      <td>229</td>\n",
       "    </tr>\n",
       "    <tr>\n",
       "      <th rowspan=\"3\" valign=\"top\">Mrs</th>\n",
       "      <th>1</th>\n",
       "      <td>40.882353</td>\n",
       "      <td>34</td>\n",
       "    </tr>\n",
       "    <tr>\n",
       "      <th>2</th>\n",
       "      <td>33.682927</td>\n",
       "      <td>41</td>\n",
       "    </tr>\n",
       "    <tr>\n",
       "      <th>3</th>\n",
       "      <td>33.515152</td>\n",
       "      <td>33</td>\n",
       "    </tr>\n",
       "  </tbody>\n",
       "</table>\n",
       "</div>"
      ],
      "text/plain": [
       "                        mean  count\n",
       "salutation Pclass                  \n",
       "Dr         1       43.750000      4\n",
       "           2       38.500000      2\n",
       "Master     1        5.306667      3\n",
       "           2        2.258889      9\n",
       "           3        5.350833     24\n",
       "Miss       1       30.000000     45\n",
       "           2       22.390625     32\n",
       "           3       16.123188     69\n",
       "Mr         1       41.580460     87\n",
       "           2       32.768293     82\n",
       "           3       28.724891    229\n",
       "Mrs        1       40.882353     34\n",
       "           2       33.682927     41\n",
       "           3       33.515152     33"
      ]
     },
     "execution_count": 8,
     "metadata": {},
     "output_type": "execute_result"
    }
   ],
   "source": [
    "train_sample = age_train_data[age_train_data['salutation'].isin(['Mr', 'Mrs', 'Miss', 'Master', 'Dr'])]\n",
    "train_age_summary = train_sample.groupby(['salutation', 'Pclass'])['Age'].agg(['mean', 'count'])\n",
    "train_age_summary"
   ]
  },
  {
   "cell_type": "code",
   "execution_count": 9,
   "id": "d04675dd",
   "metadata": {},
   "outputs": [
    {
     "data": {
      "text/plain": [
       "[43.75,\n",
       " 38.5,\n",
       " 5.306666666666667,\n",
       " 2.2588888888888885,\n",
       " 5.350833333333333,\n",
       " 30.0,\n",
       " 22.390625,\n",
       " 16.1231884057971,\n",
       " 41.58045977011494,\n",
       " 32.76829268292683,\n",
       " 28.724890829694324,\n",
       " 40.88235294117647,\n",
       " 33.68292682926829,\n",
       " 33.515151515151516]"
      ]
     },
     "execution_count": 9,
     "metadata": {},
     "output_type": "execute_result"
    }
   ],
   "source": [
    "list(train_age_summary['mean'])"
   ]
  },
  {
   "cell_type": "code",
   "execution_count": 10,
   "id": "7eb91c02",
   "metadata": {},
   "outputs": [
    {
     "name": "stdout",
     "output_type": "stream",
     "text": [
      "<class 'pandas.core.frame.DataFrame'>\n",
      "Int64Index: 891 entries, 1 to 891\n",
      "Data columns (total 12 columns):\n",
      " #   Column      Non-Null Count  Dtype  \n",
      "---  ------      --------------  -----  \n",
      " 0   Survived    891 non-null    int64  \n",
      " 1   Pclass      891 non-null    int64  \n",
      " 2   Name        891 non-null    object \n",
      " 3   Sex         891 non-null    object \n",
      " 4   Age         714 non-null    float64\n",
      " 5   SibSp       891 non-null    int64  \n",
      " 6   Parch       891 non-null    int64  \n",
      " 7   Ticket      891 non-null    object \n",
      " 8   Fare        891 non-null    float64\n",
      " 9   Cabin       204 non-null    object \n",
      " 10  Embarked    889 non-null    object \n",
      " 11  salutation  891 non-null    object \n",
      "dtypes: float64(2), int64(4), object(6)\n",
      "memory usage: 90.5+ KB\n"
     ]
    }
   ],
   "source": [
    "age_train_data.info()"
   ]
  },
  {
   "cell_type": "code",
   "execution_count": 11,
   "id": "e33f9910",
   "metadata": {},
   "outputs": [],
   "source": [
    "salutations = ['Dr','Master','Miss','Mr','Mrs']\n",
    "pclasses = [1,2,3]\n",
    "ages = [43.75,\n",
    " 38.5,\n",
    " 0,\n",
    " 5.306666666666667,\n",
    " 2.2588888888888885,\n",
    " 5.350833333333333,\n",
    " 30.0,\n",
    " 22.390625,\n",
    " 16.1231884057971,\n",
    " 41.58045977011494,\n",
    " 32.76829268292683,\n",
    " 28.724890829694324,\n",
    " 40.88235294117647,\n",
    " 33.68292682926829,\n",
    " 33.515151515151516]\n",
    "for stn in range(len(salutations)):\n",
    "    for pcl in range(len(pclasses)):\n",
    "        age = (stn*3)+pcl\n",
    "        age_train_data.loc[(age_train_data['Age'].isnull()) & (age_train_data['salutation']==salutations[stn]) & (age_train_data['Pclass'] == pclasses[pcl]),'Age'] = ages[age]        "
   ]
  },
  {
   "cell_type": "code",
   "execution_count": 12,
   "id": "df9f4f3a",
   "metadata": {},
   "outputs": [
    {
     "name": "stdout",
     "output_type": "stream",
     "text": [
      "<class 'pandas.core.frame.DataFrame'>\n",
      "Int64Index: 891 entries, 1 to 891\n",
      "Data columns (total 12 columns):\n",
      " #   Column      Non-Null Count  Dtype  \n",
      "---  ------      --------------  -----  \n",
      " 0   Survived    891 non-null    int64  \n",
      " 1   Pclass      891 non-null    int64  \n",
      " 2   Name        891 non-null    object \n",
      " 3   Sex         891 non-null    object \n",
      " 4   Age         891 non-null    float64\n",
      " 5   SibSp       891 non-null    int64  \n",
      " 6   Parch       891 non-null    int64  \n",
      " 7   Ticket      891 non-null    object \n",
      " 8   Fare        891 non-null    float64\n",
      " 9   Cabin       204 non-null    object \n",
      " 10  Embarked    889 non-null    object \n",
      " 11  salutation  891 non-null    object \n",
      "dtypes: float64(2), int64(4), object(6)\n",
      "memory usage: 90.5+ KB\n"
     ]
    }
   ],
   "source": [
    "age_train_data.info()"
   ]
  },
  {
   "cell_type": "code",
   "execution_count": 13,
   "id": "48335cab",
   "metadata": {},
   "outputs": [
    {
     "data": {
      "text/plain": [
       "array(['Mr', 'Mrs', 'Miss', 'Ms', 'Master'], dtype=object)"
      ]
     },
     "execution_count": 13,
     "metadata": {},
     "output_type": "execute_result"
    }
   ],
   "source": [
    "age_test_data[age_test_data['Age'].isnull()]['salutation'].unique()"
   ]
  },
  {
   "cell_type": "code",
   "execution_count": 14,
   "id": "e0d4c00a",
   "metadata": {},
   "outputs": [
    {
     "data": {
      "text/html": [
       "<div>\n",
       "<style scoped>\n",
       "    .dataframe tbody tr th:only-of-type {\n",
       "        vertical-align: middle;\n",
       "    }\n",
       "\n",
       "    .dataframe tbody tr th {\n",
       "        vertical-align: top;\n",
       "    }\n",
       "\n",
       "    .dataframe thead th {\n",
       "        text-align: right;\n",
       "    }\n",
       "</style>\n",
       "<table border=\"1\" class=\"dataframe\">\n",
       "  <thead>\n",
       "    <tr style=\"text-align: right;\">\n",
       "      <th></th>\n",
       "      <th></th>\n",
       "      <th>mean</th>\n",
       "      <th>count</th>\n",
       "    </tr>\n",
       "    <tr>\n",
       "      <th>salutation</th>\n",
       "      <th>Pclass</th>\n",
       "      <th></th>\n",
       "      <th></th>\n",
       "    </tr>\n",
       "  </thead>\n",
       "  <tbody>\n",
       "    <tr>\n",
       "      <th rowspan=\"3\" valign=\"top\">Master</th>\n",
       "      <th>1</th>\n",
       "      <td>9.500000</td>\n",
       "      <td>2</td>\n",
       "    </tr>\n",
       "    <tr>\n",
       "      <th>2</th>\n",
       "      <td>5.000000</td>\n",
       "      <td>2</td>\n",
       "    </tr>\n",
       "    <tr>\n",
       "      <th>3</th>\n",
       "      <td>7.454615</td>\n",
       "      <td>13</td>\n",
       "    </tr>\n",
       "    <tr>\n",
       "      <th rowspan=\"3\" valign=\"top\">Miss</th>\n",
       "      <th>1</th>\n",
       "      <td>31.428571</td>\n",
       "      <td>14</td>\n",
       "    </tr>\n",
       "    <tr>\n",
       "      <th>2</th>\n",
       "      <td>17.370000</td>\n",
       "      <td>16</td>\n",
       "    </tr>\n",
       "    <tr>\n",
       "      <th>3</th>\n",
       "      <td>19.872647</td>\n",
       "      <td>34</td>\n",
       "    </tr>\n",
       "    <tr>\n",
       "      <th rowspan=\"3\" valign=\"top\">Mr</th>\n",
       "      <th>1</th>\n",
       "      <td>41.200000</td>\n",
       "      <td>45</td>\n",
       "    </tr>\n",
       "    <tr>\n",
       "      <th>2</th>\n",
       "      <td>31.718182</td>\n",
       "      <td>55</td>\n",
       "    </tr>\n",
       "    <tr>\n",
       "      <th>3</th>\n",
       "      <td>27.198795</td>\n",
       "      <td>83</td>\n",
       "    </tr>\n",
       "    <tr>\n",
       "      <th rowspan=\"3\" valign=\"top\">Mrs</th>\n",
       "      <th>1</th>\n",
       "      <td>45.606061</td>\n",
       "      <td>33</td>\n",
       "    </tr>\n",
       "    <tr>\n",
       "      <th>2</th>\n",
       "      <td>33.000000</td>\n",
       "      <td>13</td>\n",
       "    </tr>\n",
       "    <tr>\n",
       "      <th>3</th>\n",
       "      <td>29.875000</td>\n",
       "      <td>16</td>\n",
       "    </tr>\n",
       "    <tr>\n",
       "      <th>Ms</th>\n",
       "      <th>3</th>\n",
       "      <td>NaN</td>\n",
       "      <td>0</td>\n",
       "    </tr>\n",
       "  </tbody>\n",
       "</table>\n",
       "</div>"
      ],
      "text/plain": [
       "                        mean  count\n",
       "salutation Pclass                  \n",
       "Master     1        9.500000      2\n",
       "           2        5.000000      2\n",
       "           3        7.454615     13\n",
       "Miss       1       31.428571     14\n",
       "           2       17.370000     16\n",
       "           3       19.872647     34\n",
       "Mr         1       41.200000     45\n",
       "           2       31.718182     55\n",
       "           3       27.198795     83\n",
       "Mrs        1       45.606061     33\n",
       "           2       33.000000     13\n",
       "           3       29.875000     16\n",
       "Ms         3             NaN      0"
      ]
     },
     "execution_count": 14,
     "metadata": {},
     "output_type": "execute_result"
    }
   ],
   "source": [
    "test_sample = age_test_data[age_test_data['salutation'].isin(['Mr', 'Mrs', 'Miss', 'Ms', 'Master'])]\n",
    "test_age_summary = test_sample.groupby(['salutation', 'Pclass'])['Age'].agg(['mean', 'count'])\n",
    "test_age_summary"
   ]
  },
  {
   "cell_type": "code",
   "execution_count": 15,
   "id": "08b2270b",
   "metadata": {},
   "outputs": [
    {
     "data": {
      "text/plain": [
       "[9.5,\n",
       " 5.0,\n",
       " 7.454615384615384,\n",
       " 31.428571428571427,\n",
       " 17.37,\n",
       " 19.872647058823528,\n",
       " 41.2,\n",
       " 31.71818181818182,\n",
       " 27.198795180722893,\n",
       " 45.60606060606061,\n",
       " 33.0,\n",
       " 29.875,\n",
       " nan]"
      ]
     },
     "execution_count": 15,
     "metadata": {},
     "output_type": "execute_result"
    }
   ],
   "source": [
    "list(test_age_summary['mean'])"
   ]
  },
  {
   "cell_type": "code",
   "execution_count": 16,
   "id": "a5f611d8",
   "metadata": {},
   "outputs": [],
   "source": [
    "ages_test = [9.5,\n",
    " 5.0,\n",
    " 7.454615384615384,\n",
    " 31.428571428571427,\n",
    " 17.37,\n",
    " 19.872647058823528,\n",
    " 41.2,\n",
    " 31.71818181818182,\n",
    " 27.198795180722893,\n",
    " 45.60606060606061,\n",
    " 33.0,\n",
    " 29.875,\n",
    " 29.875,\n",
    " 29.875,\n",
    " 29.875,]\n",
    "salutations_test = ['Mr', 'Mrs', 'Miss', 'Ms', 'Master']\n",
    "pclasses = [1,2,3]\n",
    "for stn in range(len(salutations_test)):\n",
    "    for pcl in range(len(pclasses)):\n",
    "        age = (stn*3)+pcl\n",
    "        age_test_data.loc[(age_test_data['Age'].isnull()) & (age_test_data['salutation']==salutations_test[stn]) & (age_test_data['Pclass'] == pclasses[pcl]),'Age'] = ages_test[age]        \n",
    "        "
   ]
  },
  {
   "cell_type": "code",
   "execution_count": 17,
   "id": "3beb8fc9",
   "metadata": {},
   "outputs": [
    {
     "name": "stdout",
     "output_type": "stream",
     "text": [
      "<class 'pandas.core.frame.DataFrame'>\n",
      "Int64Index: 418 entries, 892 to 1309\n",
      "Data columns (total 11 columns):\n",
      " #   Column      Non-Null Count  Dtype  \n",
      "---  ------      --------------  -----  \n",
      " 0   Pclass      418 non-null    int64  \n",
      " 1   Name        418 non-null    object \n",
      " 2   Sex         418 non-null    object \n",
      " 3   Age         418 non-null    float64\n",
      " 4   SibSp       418 non-null    int64  \n",
      " 5   Parch       418 non-null    int64  \n",
      " 6   Ticket      418 non-null    object \n",
      " 7   Fare        417 non-null    float64\n",
      " 8   Cabin       91 non-null     object \n",
      " 9   Embarked    418 non-null    object \n",
      " 10  salutation  418 non-null    object \n",
      "dtypes: float64(2), int64(3), object(6)\n",
      "memory usage: 39.2+ KB\n"
     ]
    }
   ],
   "source": [
    "age_test_data.info()"
   ]
  },
  {
   "cell_type": "markdown",
   "id": "59c90494",
   "metadata": {},
   "source": [
    "### Check Point"
   ]
  },
  {
   "cell_type": "code",
   "execution_count": 32,
   "id": "2703842b",
   "metadata": {},
   "outputs": [],
   "source": [
    "pre_train_data = age_train_data\n",
    "pre_test_data = age_test_data"
   ]
  },
  {
   "cell_type": "markdown",
   "id": "d06513b8",
   "metadata": {},
   "source": [
    "#### Drop unnecessary columns\n",
    "\n",
    "We can drop below columns which will not be much helpful\n",
    "\n",
    "- Name \n",
    "- Ticket \n",
    "- Fare -> direct correlation with Pclass, ticket Fare may change but all will be treated as only 3 classes\n",
    "- Cabin -> 75% data missing\n",
    "- Embarked will not influence the survival\n",
    "- salutation -> same as Name\n"
   ]
  },
  {
   "cell_type": "code",
   "execution_count": 33,
   "id": "a9a8bfad",
   "metadata": {},
   "outputs": [
    {
     "data": {
      "text/plain": [
       "array(['Survived', 'Pclass', 'Name', 'Sex', 'Age', 'SibSp', 'Parch',\n",
       "       'Ticket', 'Fare', 'Cabin', 'Embarked', 'salutation'], dtype=object)"
      ]
     },
     "execution_count": 33,
     "metadata": {},
     "output_type": "execute_result"
    }
   ],
   "source": [
    "pre_train_data.columns.values"
   ]
  },
  {
   "cell_type": "code",
   "execution_count": 34,
   "id": "0bc86ed7",
   "metadata": {},
   "outputs": [],
   "source": [
    "drop_list = ['Name', 'Ticket', 'Fare', 'Cabin', 'Embarked', 'salutation']\n",
    "pre_train_data = pre_train_data.drop(drop_list, axis=1)\n",
    "pre_test_data = pre_test_data.drop(drop_list,axis=1)"
   ]
  },
  {
   "cell_type": "markdown",
   "id": "3509043c",
   "metadata": {},
   "source": [
    "Transform Gender Male and female to 0 and 1"
   ]
  },
  {
   "cell_type": "code",
   "execution_count": 35,
   "id": "cfe380fe",
   "metadata": {},
   "outputs": [],
   "source": [
    "pre_train_data['Sex'] = pre_train_data['Sex'].map({'male':0, 'female':1})\n",
    "pre_test_data['Sex'] = pre_test_data['Sex'].map({'male':0, 'female':1})"
   ]
  },
  {
   "cell_type": "markdown",
   "id": "59f5b1f5",
   "metadata": {},
   "source": [
    "#### Explanatory Data Analysis "
   ]
  },
  {
   "cell_type": "code",
   "execution_count": 39,
   "id": "b707cc09",
   "metadata": {},
   "outputs": [
    {
     "data": {
      "text/html": [
       "<div>\n",
       "<style scoped>\n",
       "    .dataframe tbody tr th:only-of-type {\n",
       "        vertical-align: middle;\n",
       "    }\n",
       "\n",
       "    .dataframe tbody tr th {\n",
       "        vertical-align: top;\n",
       "    }\n",
       "\n",
       "    .dataframe thead th {\n",
       "        text-align: right;\n",
       "    }\n",
       "</style>\n",
       "<table border=\"1\" class=\"dataframe\">\n",
       "  <thead>\n",
       "    <tr style=\"text-align: right;\">\n",
       "      <th></th>\n",
       "      <th>Pclass</th>\n",
       "      <th>Sex</th>\n",
       "      <th>Age</th>\n",
       "      <th>SibSp</th>\n",
       "      <th>Parch</th>\n",
       "    </tr>\n",
       "    <tr>\n",
       "      <th>PassengerId</th>\n",
       "      <th></th>\n",
       "      <th></th>\n",
       "      <th></th>\n",
       "      <th></th>\n",
       "      <th></th>\n",
       "    </tr>\n",
       "  </thead>\n",
       "  <tbody>\n",
       "    <tr>\n",
       "      <th>892</th>\n",
       "      <td>3</td>\n",
       "      <td>0</td>\n",
       "      <td>34.500000</td>\n",
       "      <td>0</td>\n",
       "      <td>0</td>\n",
       "    </tr>\n",
       "    <tr>\n",
       "      <th>893</th>\n",
       "      <td>3</td>\n",
       "      <td>1</td>\n",
       "      <td>47.000000</td>\n",
       "      <td>1</td>\n",
       "      <td>0</td>\n",
       "    </tr>\n",
       "    <tr>\n",
       "      <th>894</th>\n",
       "      <td>2</td>\n",
       "      <td>0</td>\n",
       "      <td>62.000000</td>\n",
       "      <td>0</td>\n",
       "      <td>0</td>\n",
       "    </tr>\n",
       "    <tr>\n",
       "      <th>895</th>\n",
       "      <td>3</td>\n",
       "      <td>0</td>\n",
       "      <td>27.000000</td>\n",
       "      <td>0</td>\n",
       "      <td>0</td>\n",
       "    </tr>\n",
       "    <tr>\n",
       "      <th>896</th>\n",
       "      <td>3</td>\n",
       "      <td>1</td>\n",
       "      <td>22.000000</td>\n",
       "      <td>1</td>\n",
       "      <td>1</td>\n",
       "    </tr>\n",
       "    <tr>\n",
       "      <th>...</th>\n",
       "      <td>...</td>\n",
       "      <td>...</td>\n",
       "      <td>...</td>\n",
       "      <td>...</td>\n",
       "      <td>...</td>\n",
       "    </tr>\n",
       "    <tr>\n",
       "      <th>1305</th>\n",
       "      <td>3</td>\n",
       "      <td>0</td>\n",
       "      <td>7.454615</td>\n",
       "      <td>0</td>\n",
       "      <td>0</td>\n",
       "    </tr>\n",
       "    <tr>\n",
       "      <th>1306</th>\n",
       "      <td>1</td>\n",
       "      <td>1</td>\n",
       "      <td>39.000000</td>\n",
       "      <td>0</td>\n",
       "      <td>0</td>\n",
       "    </tr>\n",
       "    <tr>\n",
       "      <th>1307</th>\n",
       "      <td>3</td>\n",
       "      <td>0</td>\n",
       "      <td>38.500000</td>\n",
       "      <td>0</td>\n",
       "      <td>0</td>\n",
       "    </tr>\n",
       "    <tr>\n",
       "      <th>1308</th>\n",
       "      <td>3</td>\n",
       "      <td>0</td>\n",
       "      <td>7.454615</td>\n",
       "      <td>0</td>\n",
       "      <td>0</td>\n",
       "    </tr>\n",
       "    <tr>\n",
       "      <th>1309</th>\n",
       "      <td>3</td>\n",
       "      <td>0</td>\n",
       "      <td>29.875000</td>\n",
       "      <td>1</td>\n",
       "      <td>1</td>\n",
       "    </tr>\n",
       "  </tbody>\n",
       "</table>\n",
       "<p>418 rows × 5 columns</p>\n",
       "</div>"
      ],
      "text/plain": [
       "             Pclass  Sex        Age  SibSp  Parch\n",
       "PassengerId                                      \n",
       "892               3    0  34.500000      0      0\n",
       "893               3    1  47.000000      1      0\n",
       "894               2    0  62.000000      0      0\n",
       "895               3    0  27.000000      0      0\n",
       "896               3    1  22.000000      1      1\n",
       "...             ...  ...        ...    ...    ...\n",
       "1305              3    0   7.454615      0      0\n",
       "1306              1    1  39.000000      0      0\n",
       "1307              3    0  38.500000      0      0\n",
       "1308              3    0   7.454615      0      0\n",
       "1309              3    0  29.875000      1      1\n",
       "\n",
       "[418 rows x 5 columns]"
      ]
     },
     "execution_count": 39,
     "metadata": {},
     "output_type": "execute_result"
    }
   ],
   "source": [
    "pre_test_data"
   ]
  },
  {
   "cell_type": "code",
   "execution_count": 46,
   "id": "ae5027e0",
   "metadata": {},
   "outputs": [
    {
     "data": {
      "text/html": [
       "<div>\n",
       "<style scoped>\n",
       "    .dataframe tbody tr th:only-of-type {\n",
       "        vertical-align: middle;\n",
       "    }\n",
       "\n",
       "    .dataframe tbody tr th {\n",
       "        vertical-align: top;\n",
       "    }\n",
       "\n",
       "    .dataframe thead th {\n",
       "        text-align: right;\n",
       "    }\n",
       "</style>\n",
       "<table border=\"1\" class=\"dataframe\">\n",
       "  <thead>\n",
       "    <tr style=\"text-align: right;\">\n",
       "      <th></th>\n",
       "      <th>Survived</th>\n",
       "      <th>Pclass</th>\n",
       "      <th>Sex</th>\n",
       "      <th>Age</th>\n",
       "      <th>SibSp</th>\n",
       "      <th>Parch</th>\n",
       "    </tr>\n",
       "  </thead>\n",
       "  <tbody>\n",
       "    <tr>\n",
       "      <th>count</th>\n",
       "      <td>891.000000</td>\n",
       "      <td>891.000000</td>\n",
       "      <td>891.000000</td>\n",
       "      <td>891.000000</td>\n",
       "      <td>891.000000</td>\n",
       "      <td>891.000000</td>\n",
       "    </tr>\n",
       "    <tr>\n",
       "      <th>mean</th>\n",
       "      <td>0.383838</td>\n",
       "      <td>2.308642</td>\n",
       "      <td>0.352413</td>\n",
       "      <td>29.424948</td>\n",
       "      <td>0.523008</td>\n",
       "      <td>0.381594</td>\n",
       "    </tr>\n",
       "    <tr>\n",
       "      <th>std</th>\n",
       "      <td>0.486592</td>\n",
       "      <td>0.836071</td>\n",
       "      <td>0.477990</td>\n",
       "      <td>13.544457</td>\n",
       "      <td>1.102743</td>\n",
       "      <td>0.806057</td>\n",
       "    </tr>\n",
       "    <tr>\n",
       "      <th>min</th>\n",
       "      <td>0.000000</td>\n",
       "      <td>1.000000</td>\n",
       "      <td>0.000000</td>\n",
       "      <td>0.420000</td>\n",
       "      <td>0.000000</td>\n",
       "      <td>0.000000</td>\n",
       "    </tr>\n",
       "    <tr>\n",
       "      <th>25%</th>\n",
       "      <td>0.000000</td>\n",
       "      <td>2.000000</td>\n",
       "      <td>0.000000</td>\n",
       "      <td>21.000000</td>\n",
       "      <td>0.000000</td>\n",
       "      <td>0.000000</td>\n",
       "    </tr>\n",
       "    <tr>\n",
       "      <th>50%</th>\n",
       "      <td>0.000000</td>\n",
       "      <td>3.000000</td>\n",
       "      <td>0.000000</td>\n",
       "      <td>28.724891</td>\n",
       "      <td>0.000000</td>\n",
       "      <td>0.000000</td>\n",
       "    </tr>\n",
       "    <tr>\n",
       "      <th>75%</th>\n",
       "      <td>1.000000</td>\n",
       "      <td>3.000000</td>\n",
       "      <td>1.000000</td>\n",
       "      <td>36.750000</td>\n",
       "      <td>1.000000</td>\n",
       "      <td>0.000000</td>\n",
       "    </tr>\n",
       "    <tr>\n",
       "      <th>max</th>\n",
       "      <td>1.000000</td>\n",
       "      <td>3.000000</td>\n",
       "      <td>1.000000</td>\n",
       "      <td>80.000000</td>\n",
       "      <td>8.000000</td>\n",
       "      <td>6.000000</td>\n",
       "    </tr>\n",
       "  </tbody>\n",
       "</table>\n",
       "</div>"
      ],
      "text/plain": [
       "         Survived      Pclass         Sex         Age       SibSp       Parch\n",
       "count  891.000000  891.000000  891.000000  891.000000  891.000000  891.000000\n",
       "mean     0.383838    2.308642    0.352413   29.424948    0.523008    0.381594\n",
       "std      0.486592    0.836071    0.477990   13.544457    1.102743    0.806057\n",
       "min      0.000000    1.000000    0.000000    0.420000    0.000000    0.000000\n",
       "25%      0.000000    2.000000    0.000000   21.000000    0.000000    0.000000\n",
       "50%      0.000000    3.000000    0.000000   28.724891    0.000000    0.000000\n",
       "75%      1.000000    3.000000    1.000000   36.750000    1.000000    0.000000\n",
       "max      1.000000    3.000000    1.000000   80.000000    8.000000    6.000000"
      ]
     },
     "execution_count": 46,
     "metadata": {},
     "output_type": "execute_result"
    }
   ],
   "source": [
    "pre_train_data.describe()"
   ]
  },
  {
   "cell_type": "markdown",
   "id": "f7b9d56d",
   "metadata": {},
   "source": [
    "We have 891 out of 2435 data points for training\n",
    "\n",
    "- 38% people survived the event\n",
    "- 35% of passengers were female\n",
    "- youngest person aboard was 3 months old (0.42 yr), and oldest person was 80 years old"
   ]
  },
  {
   "cell_type": "code",
   "execution_count": 99,
   "id": "cb621b2c",
   "metadata": {},
   "outputs": [
    {
     "data": {
      "image/png": "[encoded data removed]",
      "text/plain": [
       "<Figure size 1440x1440 with 6 Axes>"
      ]
     },
     "metadata": {},
     "output_type": "display_data"
    }
   ],
   "source": [
    "features = ['Survived', 'Pclass', 'Sex', 'Age', 'SibSp', 'Parch']\n",
    "plt.figure(figsize=(20,20))\n",
    "\n",
    "for ftr in range(len(features)):\n",
    "    plt.subplot(2,3,ftr+1)\n",
    "    plt.hist([pre_train_data[pre_train_data['Survived']==0][features[ftr]],pre_train_data[pre_train_data['Survived']==1][features[ftr]]],bins=8, label=[\"Dead\", \"Survive\"])\n",
    "    plt.legend()\n",
    "    plt.xlabel(features[ftr])\n",
    "    plt.ylabel('Count')\n",
    "\n",
    "\n",
    "\n",
    "plt.show()"
   ]
  },
  {
   "cell_type": "markdown",
   "id": "41c0d32d",
   "metadata": {},
   "source": [
    "- in Pclass, Peaple in higher Class like 1 and 2 had more survival chance as compared to Class 3\n",
    "- Majority of Male Died, but majoirity of Female survived. (In rescue boats, initially only Children and ladies were allowed, as a common practice)\n",
    "- in Age group only Kids had more survival chance, same reason before\n",
    "- Age group 20-30 had worst survival rate than all others\n",
    "- in SibSp with 1 or 2 Siblings had better chance of surviving, If siblings aboard it's more likely these are kids than adult siblings traveling together\n",
    "- Similar trend in Parch as well. If they had 1,2 or 3 parents or kids aboard, they have much higher chance of surviving"
   ]
  },
  {
   "cell_type": "code",
   "execution_count": 95,
   "id": "2df6d3e3",
   "metadata": {},
   "outputs": [
    {
     "data": {
      "text/plain": [
       "<seaborn.axisgrid.PairGrid at 0x7f9e7819f750>"
      ]
     },
     "execution_count": 95,
     "metadata": {},
     "output_type": "execute_result"
    },
    {
     "data": {
      "image/png": "[encoded data removed]",
      "text/plain": [
       "<Figure size 1080x1080 with 42 Axes>"
      ]
     },
     "metadata": {},
     "output_type": "display_data"
    }
   ],
   "source": [
    "sns.pairplot(pre_train_data)"
   ]
  },
  {
   "cell_type": "markdown",
   "id": "d92c306e",
   "metadata": {},
   "source": [
    "#### Scale and Transform data"
   ]
  },
  {
   "cell_type": "code",
   "execution_count": 116,
   "id": "d61134e6",
   "metadata": {},
   "outputs": [],
   "source": [
    "X = pre_train_data.drop('Survived',axis=1)\n",
    "Y = pre_train_data['Survived']"
   ]
  },
  {
   "cell_type": "code",
   "execution_count": 128,
   "id": "204d40cd",
   "metadata": {},
   "outputs": [],
   "source": [
    "X_train, X_test, y_train, y_test = train_test_split( X, Y, test_size = 0.2, random_state = 42 )\n",
    "x_train, x_test = X_train, X_test"
   ]
  },
  {
   "cell_type": "code",
   "execution_count": 129,
   "id": "f1b6fa32",
   "metadata": {},
   "outputs": [],
   "source": [
    "scaler = StandardScaler()\n",
    "scaler.fit(X)\n",
    "x_train = scaler.transform(x_train)\n",
    "x_test = scaler.transform(x_test)"
   ]
  },
  {
   "cell_type": "markdown",
   "id": "fa619ba6",
   "metadata": {},
   "source": [
    "### Logistic Regression Model "
   ]
  },
  {
   "cell_type": "code",
   "execution_count": 133,
   "id": "2f0f319c",
   "metadata": {},
   "outputs": [],
   "source": [
    "from sklearn.linear_model import LogisticRegression\n",
    "logisticRegressionModel = LogisticRegression()"
   ]
  },
  {
   "cell_type": "code",
   "execution_count": 147,
   "id": "e507e799",
   "metadata": {},
   "outputs": [
    {
     "data": {
      "text/plain": [
       "0.8"
      ]
     },
     "execution_count": 147,
     "metadata": {},
     "output_type": "execute_result"
    }
   ],
   "source": [
    "logisticRegressionModel.fit(x_train, y_train)\n",
    "round(logisticRegressionModel.score(x_train,y_train),2)"
   ]
  },
  {
   "cell_type": "code",
   "execution_count": 162,
   "id": "341ceb9a",
   "metadata": {},
   "outputs": [
    {
     "data": {
      "text/plain": [
       "0.83"
      ]
     },
     "execution_count": 162,
     "metadata": {},
     "output_type": "execute_result"
    }
   ],
   "source": [
    "y_pred_logReg = logisticRegressionModel.predict(x_test)\n",
    "round(accuracy_score(y_test, y_pred_logReg),2)"
   ]
  },
  {
   "cell_type": "markdown",
   "id": "7fbed4e1",
   "metadata": {},
   "source": [
    "### Supporting Vector Classifiers"
   ]
  },
  {
   "cell_type": "code",
   "execution_count": 169,
   "id": "8f3a4840",
   "metadata": {},
   "outputs": [
    {
     "data": {
      "text/plain": [
       "0.84"
      ]
     },
     "execution_count": 169,
     "metadata": {},
     "output_type": "execute_result"
    }
   ],
   "source": [
    "from sklearn.svm import SVC, LinearSVC\n",
    "svc = SVC()\n",
    "svc.fit(x_train, y_train)\n",
    "round(svc.score(x_train, y_train),2)"
   ]
  },
  {
   "cell_type": "code",
   "execution_count": 166,
   "id": "60f9229a",
   "metadata": {},
   "outputs": [
    {
     "data": {
      "text/plain": [
       "0.79"
      ]
     },
     "execution_count": 166,
     "metadata": {},
     "output_type": "execute_result"
    }
   ],
   "source": [
    "y_pred_svc = svc.predict(x_test)\n",
    "round(accuracy_score(y_test, y_pred),2)"
   ]
  },
  {
   "cell_type": "markdown",
   "id": "d3dbea44",
   "metadata": {},
   "source": [
    "### Linear Supporting Vector Classifiers"
   ]
  },
  {
   "cell_type": "code",
   "execution_count": 193,
   "id": "e260042c",
   "metadata": {},
   "outputs": [
    {
     "data": {
      "text/plain": [
       "0.8"
      ]
     },
     "execution_count": 193,
     "metadata": {},
     "output_type": "execute_result"
    }
   ],
   "source": [
    "linear_svc = LinearSVC()\n",
    "linear_svc.fit(x_train,y_train)\n",
    "round(linear_svc.score(x_train,y_train),2)"
   ]
  },
  {
   "cell_type": "code",
   "execution_count": 170,
   "id": "a7b34532",
   "metadata": {},
   "outputs": [
    {
     "data": {
      "text/plain": [
       "0.79"
      ]
     },
     "execution_count": 170,
     "metadata": {},
     "output_type": "execute_result"
    }
   ],
   "source": [
    "y_pred_linear_svc = linear_svc.predict(x_test)\n",
    "round(accuracy_score(y_test, y_pred_linear_svc),2)"
   ]
  },
  {
   "cell_type": "markdown",
   "id": "d7761d31",
   "metadata": {},
   "source": [
    "###  Random Forest Classifier"
   ]
  },
  {
   "cell_type": "code",
   "execution_count": 171,
   "id": "675996fb",
   "metadata": {},
   "outputs": [
    {
     "data": {
      "text/plain": [
       "0.92"
      ]
     },
     "execution_count": 171,
     "metadata": {},
     "output_type": "execute_result"
    }
   ],
   "source": [
    "from sklearn.ensemble import RandomForestClassifier\n",
    "\n",
    "rfc = RandomForestClassifier()\n",
    "rfc.fit(x_train, y_train)\n",
    "round(rfc.score(x_train, y_train),2)"
   ]
  },
  {
   "cell_type": "code",
   "execution_count": 172,
   "id": "7a8e98f5",
   "metadata": {},
   "outputs": [
    {
     "data": {
      "text/plain": [
       "0.82"
      ]
     },
     "execution_count": 172,
     "metadata": {},
     "output_type": "execute_result"
    }
   ],
   "source": [
    "y_pred_rfc = rfc.predict(x_test)\n",
    "round(accuracy_score(y_test, y_pred_rfc),2)"
   ]
  },
  {
   "cell_type": "markdown",
   "id": "5960053e",
   "metadata": {},
   "source": [
    "###  KNN Classifier"
   ]
  },
  {
   "cell_type": "code",
   "execution_count": 175,
   "id": "0158f819",
   "metadata": {},
   "outputs": [
    {
     "data": {
      "text/plain": [
       "0.85"
      ]
     },
     "execution_count": 175,
     "metadata": {},
     "output_type": "execute_result"
    }
   ],
   "source": [
    "from sklearn.neighbors import KNeighborsClassifier\n",
    "\n",
    "KNN = KNeighborsClassifier()\n",
    "KNN.fit(x_train, y_train)\n",
    "round(KNN.score(x_train, y_train),2)"
   ]
  },
  {
   "cell_type": "code",
   "execution_count": 177,
   "id": "cb5c2845",
   "metadata": {},
   "outputs": [
    {
     "data": {
      "text/plain": [
       "0.8"
      ]
     },
     "execution_count": 177,
     "metadata": {},
     "output_type": "execute_result"
    }
   ],
   "source": [
    "y_pred_knn = KNN.predict(x_test)\n",
    "round(accuracy_score(y_test, y_pred_knn),2)"
   ]
  },
  {
   "cell_type": "markdown",
   "id": "51f876bd",
   "metadata": {},
   "source": [
    "###  Gaussian Naive Bayes"
   ]
  },
  {
   "cell_type": "code",
   "execution_count": 178,
   "id": "5e5a8a41",
   "metadata": {},
   "outputs": [
    {
     "data": {
      "text/plain": [
       "0.78"
      ]
     },
     "execution_count": 178,
     "metadata": {},
     "output_type": "execute_result"
    }
   ],
   "source": [
    "from sklearn.naive_bayes import GaussianNB\n",
    "\n",
    "GNB = GaussianNB()\n",
    "GNB.fit(x_train, y_train)\n",
    "round(GNB.score(x_train, y_train),2)"
   ]
  },
  {
   "cell_type": "code",
   "execution_count": 179,
   "id": "2842593b",
   "metadata": {},
   "outputs": [
    {
     "data": {
      "text/plain": [
       "0.75"
      ]
     },
     "execution_count": 179,
     "metadata": {},
     "output_type": "execute_result"
    }
   ],
   "source": [
    "y_pred_gnb = GNB.predict(x_test)\n",
    "round(accuracy_score(y_test, y_pred_gnb),2)"
   ]
  },
  {
   "cell_type": "markdown",
   "id": "30736c50",
   "metadata": {},
   "source": [
    "###  Perceptron"
   ]
  },
  {
   "cell_type": "code",
   "execution_count": 180,
   "id": "f581d985",
   "metadata": {},
   "outputs": [
    {
     "data": {
      "text/plain": [
       "0.64"
      ]
     },
     "execution_count": 180,
     "metadata": {},
     "output_type": "execute_result"
    }
   ],
   "source": [
    "from sklearn.linear_model import Perceptron\n",
    "\n",
    "perc = Perceptron()\n",
    "perc.fit(x_train, y_train)\n",
    "round(perc.score(x_train, y_train),2)"
   ]
  },
  {
   "cell_type": "code",
   "execution_count": 181,
   "id": "80aa369f",
   "metadata": {},
   "outputs": [
    {
     "data": {
      "text/plain": [
       "0.65"
      ]
     },
     "execution_count": 181,
     "metadata": {},
     "output_type": "execute_result"
    }
   ],
   "source": [
    "y_pred_perc = perc.predict(x_test)\n",
    "round(accuracy_score(y_test, y_pred_perc),2)"
   ]
  },
  {
   "cell_type": "markdown",
   "id": "afe8ac81",
   "metadata": {},
   "source": [
    "### Stochastic Gradient Descent Classifier"
   ]
  },
  {
   "cell_type": "code",
   "execution_count": 183,
   "id": "8baf1254",
   "metadata": {},
   "outputs": [
    {
     "data": {
      "text/plain": [
       "0.78"
      ]
     },
     "execution_count": 183,
     "metadata": {},
     "output_type": "execute_result"
    }
   ],
   "source": [
    "from sklearn.linear_model import SGDClassifier\n",
    "\n",
    "SGD = SGDClassifier()\n",
    "SGD.fit(x_train, y_train)\n",
    "round(SGD.score(x_train, y_train),2)"
   ]
  },
  {
   "cell_type": "code",
   "execution_count": 184,
   "id": "77a998ed",
   "metadata": {},
   "outputs": [
    {
     "data": {
      "text/plain": [
       "0.83"
      ]
     },
     "execution_count": 184,
     "metadata": {},
     "output_type": "execute_result"
    }
   ],
   "source": [
    "y_pred_sgd = SGD.predict(x_test)\n",
    "round(accuracy_score(y_test, y_pred_sgd),2)"
   ]
  },
  {
   "cell_type": "markdown",
   "id": "58c69d5a",
   "metadata": {},
   "source": [
    "### Decision Tree Classifier"
   ]
  },
  {
   "cell_type": "code",
   "execution_count": 185,
   "id": "b27b5f52",
   "metadata": {},
   "outputs": [
    {
     "data": {
      "text/plain": [
       "0.92"
      ]
     },
     "execution_count": 185,
     "metadata": {},
     "output_type": "execute_result"
    }
   ],
   "source": [
    "from sklearn.tree import DecisionTreeClassifier\n",
    "\n",
    "DTC = DecisionTreeClassifier()\n",
    "DTC.fit(x_train, y_train)\n",
    "round(DTC.score(x_train, y_train),2)"
   ]
  },
  {
   "cell_type": "code",
   "execution_count": 188,
   "id": "d2fa80dc",
   "metadata": {},
   "outputs": [
    {
     "data": {
      "text/plain": [
       "0.78"
      ]
     },
     "execution_count": 188,
     "metadata": {},
     "output_type": "execute_result"
    }
   ],
   "source": [
    "y_pred_dtc = DTC.predict(x_test)\n",
    "round(accuracy_score(y_test, y_pred_dtc),2)"
   ]
  },
  {
   "cell_type": "markdown",
   "id": "7c77a87a",
   "metadata": {},
   "source": [
    "### Saving Submissions"
   ]
  },
  {
   "cell_type": "code",
   "execution_count": 216,
   "id": "010bcc81",
   "metadata": {},
   "outputs": [],
   "source": [
    "submissionDF = pre_test_data.copy()\n",
    "submissionDF = submissionDF.drop(['Pclass','Sex','Age','SibSp','Parch'],axis=1)\n",
    "testData = scaler.transform(pre_test_data)"
   ]
  },
  {
   "cell_type": "code",
   "execution_count": 226,
   "id": "d54de531",
   "metadata": {},
   "outputs": [],
   "source": [
    "# Random Forest 71%\n",
    "RFC_df = submissionDF\n",
    "y_pred_rfc = rfc.predict(testData)\n",
    "\n",
    "RFC_df['Survived'] = y_pred_rfc\n",
    "RFC_df = RFC_df.sort_index()\n",
    "RFC_df.to_csv('data/rfc.csv')"
   ]
  },
  {
   "cell_type": "code",
   "execution_count": 227,
   "id": "90258f08",
   "metadata": {},
   "outputs": [],
   "source": [
    "#SVC = 78 %\n",
    "SVC_df = submissionDF\n",
    "y_pred_svc = svc.predict(testData)\n",
    "SVC_df['Survived'] = y_pred_svc\n",
    "SVC_df.to_csv('data/svc.csv')"
   ]
  },
  {
   "cell_type": "code",
   "execution_count": 228,
   "id": "ff9fb7f0",
   "metadata": {},
   "outputs": [],
   "source": [
    "# Linear SVC = 76.6 %\n",
    "LSVC_df = submissionDF\n",
    "y_pred_lsvc = linear_svc.predict(testData)\n",
    "LSVC_df['Survived'] = y_pred_lsvc\n",
    "LSVC_df.to_csv('data/lsvc.csv')"
   ]
  },
  {
   "cell_type": "code",
   "execution_count": 229,
   "id": "144d2976",
   "metadata": {},
   "outputs": [],
   "source": [
    "# Logistic Regression = 75.36 %\n",
    "LR_df = submissionDF\n",
    "y_pred_lr = logisticRegressionModel.predict(testData)\n",
    "LR_df['Survived'] = y_pred_lr\n",
    "LR_df.to_csv('data/logisticRegression.csv')\n"
   ]
  },
  {
   "cell_type": "code",
   "execution_count": 230,
   "id": "bdc57e81",
   "metadata": {},
   "outputs": [],
   "source": [
    "# KNN = 74.64 %\n",
    "KNN_df = submissionDF\n",
    "y_pred_KNN = KNN.predict(testData)\n",
    "KNN_df['Survived'] = y_pred_KNN\n",
    "KNN_df.to_csv('data/KNN.csv')"
   ]
  },
  {
   "cell_type": "code",
   "execution_count": 231,
   "id": "14e64090",
   "metadata": {},
   "outputs": [],
   "source": [
    "# GNB = 74.16 %\n",
    "GNB_df = submissionDF\n",
    "y_pred_GNB = GNB.predict(testData)\n",
    "GNB_df['Survived'] = y_pred_GNB\n",
    "GNB_df.to_csv('data/GNB.csv')"
   ]
  },
  {
   "cell_type": "code",
   "execution_count": 232,
   "id": "49963771",
   "metadata": {},
   "outputs": [],
   "source": [
    "# perc = 61.244 %\n",
    "perc_df = submissionDF\n",
    "y_pred_perc = perc.predict(testData)\n",
    "perc_df['Survived'] = y_pred_perc\n",
    "perc_df.to_csv('data/perc.csv')"
   ]
  },
  {
   "cell_type": "code",
   "execution_count": 233,
   "id": "dfaa662c",
   "metadata": {},
   "outputs": [],
   "source": [
    "# SGD = 73.44 %\n",
    "SGD_df = submissionDF\n",
    "y_pred_SGD = SGD.predict(testData)\n",
    "SGD_df['Survived'] = y_pred_SGD\n",
    "SGD_df.to_csv('data/SGD.csv')"
   ]
  },
  {
   "cell_type": "code",
   "execution_count": 234,
   "id": "8e7c5181",
   "metadata": {},
   "outputs": [],
   "source": [
    "# DTC = 63.88 %\n",
    "DTC_df = submissionDF\n",
    "y_pred_DTC = DTC.predict(testData)\n",
    "DTC_df['Survived'] = y_pred_DTC\n",
    "DTC_df.to_csv('data/DTC.csv')"
   ]
  },
  {
   "cell_type": "code",
   "execution_count": null,
   "id": "f28a920c",
   "metadata": {},
   "outputs": [],
   "source": []
  }
 ],
 "metadata": {
  "kernelspec": {
   "display_name": "Python 3.7.11 ('py3-TF2.0')",
   "language": "python",
   "name": "python3711jvsc74a57bd0498f662c0313e37f1c1680f85e7dfbcf061d8e009724c62f4f05e89b0b1ac53d"
  },
  "language_info": {
   "codemirror_mode": {
    "name": "ipython",
    "version": 3
   },
   "file_extension": ".py",
   "mimetype": "text/x-python",
   "name": "python",
   "nbconvert_exporter": "python",
   "pygments_lexer": "ipython3",
   "version": "3.7.11"
  }
 },
 "nbformat": 4,
 "nbformat_minor": 5
}
